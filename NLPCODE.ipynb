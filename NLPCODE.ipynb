{
 "cells": [
  {
   "cell_type": "code",
   "execution_count": 1,
   "metadata": {},
   "outputs": [],
   "source": [
    "#tokenize newline using nlp\n",
    "from lib2to3.pgen2 import token\n",
    "import spacy\n",
    "\n",
    "nlp = spacy.load('en_core_web_sm')\n",
    "tokenize2=open(\"hack.log\").read()\n",
    "tokenize=open(\"hack.log\").read()"
   ]
  },
  {
   "cell_type": "code",
   "execution_count": 2,
   "metadata": {},
   "outputs": [
    {
     "data": {
      "text/plain": [
       "['javax.security.auth.login.FailedLoginException: [Security:090304]Authentication Failed: User OracleSystemUser ',\n",
       " 'javax.security.auth.login.FailedLoginException: [Security:090302]Authentication Failed: User OracleSystemUser denied',\n",
       " '2013-07-13 00:46:07 192.168.2.105 POST xxx.wsdl 80 - 192.168.2.105 ksoup2-android/2.6.0+ 200 0 0 977',\n",
       " '2013-07-13 00:46:07 192.168.2.105 POST xxx.wsdl 80 - 192.168.2.105 lcsoap android/2.6.0 200 0 0 166 ',\n",
       " '13:06:28,586 ERROR APP - Error in CWSendMail.sendMessage(). Could not send email. Here is the exception: javax.mail.SendFailedException: Sending failed; nested exception is: class javax.mail.MessagingException: Could not connect to SMTP host: CWIEX1, port: 25; nested exception is: java.net.SocketException: Software caused connection abort: connect',\n",
       " '07:08:31 up 2:41, 1 user, load average: 0.00, 0.00, 0.00 Tasks: 322 total, 2 running, 320 sleeping, 0 stopped, 0 zombie %Cpu(s): 10.0 us, 15.0 sy, 0.0 ni, 97.8 id, 0.0 wa, 5.0 hi, 0.0 si, 0.0 st MiB Mem : 3709.4 total, 1483.1 free, 1402.0 used, 824.4 buff/cache MiB Swap: 2048.0 total, 2048.0 free, 0.0 used. 2053.4 avail Mem ',\n",
       " \"2019-04-15T16:29:09.507 [3347]DEBUG:vmware.appliance.update.update_functions:Exception happens while sending message to microservice: ConnectionRefusedError(111, 'Connection refused')\",\n",
       " '2019-04-15T16:29:09.507 [3347]INFO:vmware.appliance.update.update_functions:Timeout happens while sending message to microservice',\n",
       " '2019-04-15T16:29:09.507 [3347]ERROR:vmware.vapi.provider.local:Error in invoking com.vmware.appliance.update.pending in precheck - Timeout happens while sending message to microservice',\n",
       " '2021-05-12 11:20:12 Warning: DB connections used - 50 out of 100',\n",
       " '2021-05-12 14:50:48 Warning: DB connections used - 70 out of 100',\n",
       " '2021-05-12 23:31:00 Error: com.sap.engine.services.dbpool.exceptions.BaseResourceException: SQLException is thrown by the pooled connection: com.sap.sql.log.OpenSQLException: No connection to data source xxxxx available. All 100 pooled connections are in use and 10 connection requests are currently waiting. The connection pool size might need to be adjusted.']"
      ]
     },
     "execution_count": 2,
     "metadata": {},
     "output_type": "execute_result"
    }
   ],
   "source": [
    "#split newline using nlp\n",
    "tokenize.splitlines()"
   ]
  },
  {
   "cell_type": "code",
   "execution_count": 3,
   "metadata": {},
   "outputs": [
    {
     "name": "stdout",
     "output_type": "stream",
     "text": [
      "['javax.security.auth.login.FailedLoginException', ':', '[', 'Security:090304', ']', 'Authentication', 'Failed', ':', 'User', 'OracleSystemUser', 'javax.security.auth.login.FailedLoginException', ':', '[', 'Security:090302', ']', 'Authentication', 'Failed', ':', 'User', 'OracleSystemUser', 'denied', '2013-07-13', '00:46:07', '192.168.2.105', 'POST', 'xxx.wsdl', '80', '-', '192.168.2.105', 'ksoup2-android/2.6.0+', '200', '0', '0', '977', '2013-07-13', '00:46:07', '192.168.2.105', 'POST', 'xxx.wsdl', '80', '-', '192.168.2.105', 'lcsoap', 'android/2.6.0', '200', '0', '0', '166', '13:06:28,586', 'ERROR', 'APP', '-', 'Error', 'in', 'CWSendMail.sendMessage', '(', ')', '.', 'Could', 'not', 'send', 'email', '.', 'Here', 'is', 'the', 'exception', ':', 'javax.mail.SendFailedException', ':', 'Sending', 'failed', ';', 'nested', 'exception', 'is', ':', 'class', 'javax.mail.MessagingException', ':', 'Could', 'not', 'connect', 'to', 'SMTP', 'host', ':', 'CWIEX1', ',', 'port', ':', '25', ';', 'nested', 'exception', 'is', ':', 'java.net.SocketException', ':', 'Software', 'caused', 'connection', 'abort', ':', 'connect', '07:08:31', 'up', '2:41', ',', '1', 'user', ',', 'load', 'average', ':', '0.00', ',', '0.00', ',', '0.00', 'Tasks', ':', '322', 'total', ',', '2', 'running', ',', '320', 'sleeping', ',', '0', 'stopped', ',', '0', 'zombie', '%', 'Cpu', '(', 's', ')', ':', '10.0', 'us', ',', '15.0', 'sy', ',', '0.0', 'ni', ',', '97.8', 'id', ',', '0.0', 'wa', ',', '5.0', 'hi', ',', '0.0', 'si', ',', '0.0', 'st', 'MiB', 'Mem', ':', '3709.4', 'total', ',', '1483.1', 'free', ',', '1402.0', 'used', ',', '824.4', 'buff/cache', 'MiB', 'Swap', ':', '2048.0', 'total', ',', '2048.0', 'free', ',', '0.0', 'used', '.', '2053.4', 'avail', 'Mem', '2019-04-15T16:29:09.507', '[', '3347', ']', 'DEBUG', ':', 'vmware.appliance.update.update_functions', ':', 'Exception', 'happens', 'while', 'sending', 'message', 'to', 'microservice', ':', 'ConnectionRefusedError', '(', '111', ',', \"'Connection\", 'refused', \"'\", ')', '2019-04-15T16:29:09.507', '[', '3347', ']', 'INFO', ':', 'vmware.appliance.update.update_functions', ':', 'Timeout', 'happens', 'while', 'sending', 'message', 'to', 'microservice', '2019-04-15T16:29:09.507', '[', '3347', ']', 'ERROR', ':', 'vmware.vapi.provider.local', ':', 'Error', 'in', 'invoking', 'com.vmware.appliance.update.pending', 'in', 'precheck', '-', 'Timeout', 'happens', 'while', 'sending', 'message', 'to', 'microservice', '2021-05-12', '11:20:12', 'Warning', ':', 'DB', 'connections', 'used', '-', '50', 'out', 'of', '100', '2021-05-12', '14:50:48', 'Warning', ':', 'DB', 'connections', 'used', '-', '70', 'out', 'of', '100', '2021-05-12', '23:31:00', 'Error', ':', 'com.sap.engine.services.dbpool.exceptions.BaseResourceException', ':', 'SQLException', 'is', 'thrown', 'by', 'the', 'pooled', 'connection', ':', 'com.sap.sql.log.OpenSQLException', ':', 'No', 'connection', 'to', 'data', 'source', 'xxxxx', 'available', '.', 'All', '100', 'pooled', 'connections', 'are', 'in', 'use', 'and', '10', 'connection', 'requests', 'are', 'currently', 'waiting', '.', 'The', 'connection', 'pool', 'size', 'might', 'need', 'to', 'be', 'adjusted', '.']\n"
     ]
    }
   ],
   "source": [
    "#split text into tokens nltk\n",
    "import nltk \n",
    "from nltk.tokenize import word_tokenize\n",
    "tokenize = word_tokenize(tokenize)\n",
    "print(tokenize)"
   ]
  },
  {
   "cell_type": "code",
   "execution_count": 4,
   "metadata": {},
   "outputs": [
    {
     "name": "stdout",
     "output_type": "stream",
     "text": [
      "192 168 105                         4.00\n",
      "2021 05 12                          3.00\n",
      "vmware appliance update             2.01\n",
      "2013 07 13                          2.00\n",
      "00 46 07                            2.00\n",
      "2019 04 15t16                       1.50\n",
      "04 15t16 29                         1.50\n",
      "15t16 29 09                         1.50\n",
      "29 09 507                           1.50\n",
      "appliance update update_functions   1.46\n",
      "javax security auth                 1.15\n",
      "security auth login                 1.15\n",
      "auth login failedloginexception     1.15\n",
      "javax mail sendfailedexception      1.00\n",
      "javax mail messagingexception       1.00\n",
      "java net socketexception            1.00\n",
      "07 08 31                            1.00\n",
      "11 20 12                            1.00\n",
      "14 50 48                            1.00\n",
      "23 31 00                            1.00\n",
      "appliance update pending            0.77\n",
      "13 06 28                            0.71\n",
      "06 28 586                           0.71\n",
      "vmware vapi provider                0.71\n",
      "vapi provider local                 0.71\n",
      "sap sql log                         0.71\n",
      "sql log opensqlexception            0.71\n",
      "sap engine services                 0.50\n",
      "engine services dbpool              0.50\n",
      "services dbpool exceptions          0.50\n",
      "dbpool exceptions baseresourceexception 0.50\n"
     ]
    },
    {
     "name": "stderr",
     "output_type": "stream",
     "text": [
      "f:\\Anaconda\\lib\\site-packages\\sklearn\\feature_extraction\\text.py:396: UserWarning: Your stop_words may be inconsistent with your preprocessing. Tokenizing the stop words generated tokens ['aren', 'couldn', 'didn', 'doesn', 'don', 'hadn', 'hasn', 'haven', 'isn', 'let', 'll', 'mustn', 're', 'shan', 'shouldn', 've', 'wasn', 'weren', 'won', 'wouldn'] not in stop_words.\n",
      "  warnings.warn(\n"
     ]
    }
   ],
   "source": [
    "from sklearn.feature_extraction.text import TfidfVectorizer\n",
    "import nltk\n",
    "from wordcloud import WordCloud, STOPWORDS\n",
    "stopwords = set(STOPWORDS)\n",
    "\n",
    "\n",
    "def get_top_n_trigram(corpus, n=None):\n",
    "    vec = TfidfVectorizer(ngram_range=(3, 3), stop_words=stopwords, smooth_idf=False).fit(corpus)\n",
    "    bag_of_words = vec.transform(corpus)\n",
    "    sum_words = bag_of_words.sum(axis=0)\n",
    "    words_freq = [(word, sum_words[0, idx]) for word, idx in vec.vocabulary_.items()]\n",
    "    words_freq = sorted(words_freq, key = lambda x: x[1], reverse=True)\n",
    "    return words_freq[:n]\n",
    "common_words = get_top_n_trigram(tokenize, 50)\n",
    "for word, freq in common_words:\n",
    "    print(\"{0:35}{1:5.2f}\".format(word,freq))"
   ]
  },
  {
   "cell_type": "code",
   "execution_count": 5,
   "metadata": {},
   "outputs": [
    {
     "name": "stdout",
     "output_type": "stream",
     "text": [
      "192 168 105 4.0\n",
      "2021 05 12 3.0\n",
      "vmware appliance update 2.007205140000238\n",
      "2013 07 13 2.0\n",
      "00 46 07 2.0\n",
      "2019 04 15t16 1.5\n",
      "04 15t16 29 1.5\n",
      "15t16 29 09 1.5\n",
      "29 09 507 1.5\n",
      "appliance update update_functions 1.461967945060624\n",
      "javax security auth 1.1547005383792515\n",
      "security auth login 1.1547005383792515\n",
      "auth login failedloginexception 1.1547005383792515\n",
      "javax mail sendfailedexception 1.0\n",
      "javax mail messagingexception 1.0\n",
      "java net socketexception 1.0\n",
      "07 08 31 1.0\n",
      "11 20 12 1.0\n",
      "14 50 48 1.0\n",
      "23 31 00 1.0\n",
      "appliance update pending 0.7663562087735345\n",
      "13 06 28 0.7071067811865475\n",
      "06 28 586 0.7071067811865475\n",
      "vmware vapi provider 0.7071067811865475\n",
      "vapi provider local 0.7071067811865475\n",
      "sap sql log 0.7071067811865475\n",
      "sql log opensqlexception 0.7071067811865475\n",
      "sap engine services 0.5\n",
      "engine services dbpool 0.5\n",
      "services dbpool exceptions 0.5\n",
      "dbpool exceptions baseresourceexception 0.5\n"
     ]
    }
   ],
   "source": [
    "li=[]\n",
    "for w,r in common_words:\n",
    "    print(w,r)\n",
    "    li.append(w)"
   ]
  },
  {
   "cell_type": "code",
   "execution_count": 11,
   "metadata": {},
   "outputs": [],
   "source": [
    "from Email import sendEmail"
   ]
  },
  {
   "cell_type": "code",
   "execution_count": 6,
   "metadata": {},
   "outputs": [],
   "source": [
    "import colorama\n",
    "from colorama import Fore, Back, Style\n",
    "colorama.init(autoreset=True)\n",
    "import smtplib\n",
    "def sendEmail(address):\n",
    "\tprint(Fore.YELLOW + \"\\nWelcome to Mailster!\")\n",
    "\tprint(\"--------------------------------------------------------------\")\n",
    "\tsender = \"hackathondell2022@gmail.com\"\n",
    "\tpassword = \"swarbabdxxodvlpn\"\n",
    "\t# reciever = input(str(\"\\n\\nReciever: \"))\n",
    "\treciever =address\n",
    "\tmessage = \"\"\"Subject: Rewards\\n\n",
    "\tCongratulations DELL\n",
    " \tYou have won a laptop\"\"\"\n",
    "\n",
    "\tif not reciever:\n",
    "\t\tprint(Fore.GREEN + \"\\nReciever's Email is required!\")\n",
    "\tif not message:\n",
    "\t\tprint(Fore.GREEN + \"\\nMessage cannot be left empty!\")\n",
    "\telse:\n",
    "\t\tserver = smtplib.SMTP('smtp.gmail.com', 587)\n",
    "\t\tserver.starttls()\n",
    "\t\tserver.login(sender, password)\n",
    "\t\tprint(Fore.GREEN + \"\\nAccount successfully verified!\")\n",
    "\t\tserver.sendmail(sender, reciever, message)\n",
    "\t\tprint(Fore.YELLOW + \"\\nYour email has been successfully sent to\", reciever)\n",
    "\t\tserver.quit()\n",
    "  "
   ]
  },
  {
   "cell_type": "code",
   "execution_count": 12,
   "metadata": {},
   "outputs": [
    {
     "name": "stdout",
     "output_type": "stream",
     "text": [
      "\n",
      "Welcome to Mailster!\n",
      "--------------------------------------------------------------\n",
      "\n",
      "Account successfully verified!\n",
      "\n",
      "Your email has been successfully sent to anuragmhatre.2002@gmail.com\n"
     ]
    }
   ],
   "source": [
    "flag=-1\n",
    "for ele in li:\n",
    "    index = ele.find('failedloginexception')\n",
    "    if index >= 0:\n",
    "        sendEmail(\"anuragmhatre.2002@gmail.com\")\n",
    "        # print(\"SEND EMAIL\")\n",
    "        flag= index\n",
    "        break"
   ]
  },
  {
   "cell_type": "code",
   "execution_count": null,
   "metadata": {},
   "outputs": [
    {
     "data": {
      "text/plain": [
       "['javax.security.auth.login.FailedLoginException: [Security:090304]Authentication Failed: User OracleSystemUser ',\n",
       " 'javax.security.auth.login.FailedLoginException: [Security:090302]Authentication Failed: User OracleSystemUser denied',\n",
       " '2013-07-13 00:46:07 192.168.2.105 POST xxx.wsdl 80 - 192.168.2.105 ksoup2-android/2.6.0+ 200 0 0 977',\n",
       " '2013-07-13 00:46:07 192.168.2.105 POST xxx.wsdl 80 - 192.168.2.105 lcsoap android/2.6.0 200 0 0 166 ',\n",
       " '13:06:28,586 ERROR APP - Error in CWSendMail.sendMessage(). Could not send email. Here is the exception: javax.mail.SendFailedException: Sending failed; nested exception is: class javax.mail.MessagingException: Could not connect to SMTP host: CWIEX1, port: 25; nested exception is: java.net.SocketException: Software caused connection abort: connect',\n",
       " '07:08:31 up 2:41, 1 user, load average: 0.00, 0.00, 0.00 Tasks: 322 total, 2 running, 320 sleeping, 0 stopped, 0 zombie %Cpu(s): 10.0 us, 15.0 sy, 0.0 ni, 97.8 id, 0.0 wa, 5.0 hi, 0.0 si, 0.0 st MiB Mem : 3709.4 total, 1483.1 free, 1402.0 used, 824.4 buff/cache MiB Swap: 2048.0 total, 2048.0 free, 0.0 used. 2053.4 avail Mem ',\n",
       " \"2019-04-15T16:29:09.507 [3347]DEBUG:vmware.appliance.update.update_functions:Exception happens while sending message to microservice: ConnectionRefusedError(111, 'Connection refused')\",\n",
       " '2019-04-15T16:29:09.507 [3347]INFO:vmware.appliance.update.update_functions:Timeout happens while sending message to microservice',\n",
       " '2019-04-15T16:29:09.507 [3347]ERROR:vmware.vapi.provider.local:Error in invoking com.vmware.appliance.update.pending in precheck - Timeout happens while sending message to microservice',\n",
       " '2021-05-12 11:20:12 Warning: DB connections used - 50 out of 100',\n",
       " '2021-05-12 14:50:48 Warning: DB connections used - 70 out of 100',\n",
       " '2021-05-12 23:31:00 Error: com.sap.engine.services.dbpool.exceptions.BaseResourceException: SQLException is thrown by the pooled connection: com.sap.sql.log.OpenSQLException: No connection to data source xxxxx available. All 100 pooled connections are in use and 10 connection requests are currently waiting. The connection pool size might need to be adjusted.']"
      ]
     },
     "execution_count": 12,
     "metadata": {},
     "output_type": "execute_result"
    }
   ],
   "source": [
    "tokenize2.splitlines()"
   ]
  },
  {
   "cell_type": "code",
   "execution_count": null,
   "metadata": {},
   "outputs": [
    {
     "name": "stdout",
     "output_type": "stream",
     "text": [
      "Too many Database error\n"
     ]
    }
   ],
   "source": [
    "flag=-1\n",
    "counter=0\n",
    "for ele in tokenize:\n",
    "    index = ele.find('Warning')\n",
    "    if index >= 0:\n",
    "        counter=counter+1\n",
    "        flag= index\n",
    "\n",
    "if counter>=2:\n",
    "    print(\"Too many Database error\")"
   ]
  },
  {
   "cell_type": "code",
   "execution_count": null,
   "metadata": {},
   "outputs": [],
   "source": []
  }
 ],
 "metadata": {
  "kernelspec": {
   "display_name": "Python 3.9.13 ('base')",
   "language": "python",
   "name": "python3"
  },
  "language_info": {
   "codemirror_mode": {
    "name": "ipython",
    "version": 3
   },
   "file_extension": ".py",
   "mimetype": "text/x-python",
   "name": "python",
   "nbconvert_exporter": "python",
   "pygments_lexer": "ipython3",
   "version": "3.9.13"
  },
  "orig_nbformat": 4,
  "vscode": {
   "interpreter": {
    "hash": "a5d6c2be6262c78dadbf075e7ed7eef3fc1090c1044fdcff36d11e01ba01e819"
   }
  }
 },
 "nbformat": 4,
 "nbformat_minor": 2
}
